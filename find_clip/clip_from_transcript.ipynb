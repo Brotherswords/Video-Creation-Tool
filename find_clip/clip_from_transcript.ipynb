{
 "cells": [
  {
   "cell_type": "code",
   "execution_count": 1,
   "metadata": {},
   "outputs": [],
   "source": [
    "from pathlib import Path\n",
    "import math\n",
    "import shutil\n",
    "from copy import deepcopy\n",
    "\n",
    "from youtube_transcript_api import YouTubeTranscriptApi\n",
    "from youtube_transcript_api.formatters import JSONFormatter\n"
   ]
  },
  {
   "cell_type": "code",
   "execution_count": 2,
   "metadata": {},
   "outputs": [],
   "source": [
    "tate_podcast_ID = \"vsp69jYlYsg\"\n",
    "tate_short_clip_ID = \"Tcoped8NLpE\"\n",
    "I_like_turtles_ID = \"CMNry4PE93Y\"\n",
    "tucker_speech_ID = \"N32UPXGChgo\"\n",
    "fireship_vid_ID = \"PR_ykicOZYU\"\n",
    "mkbhd_short_ID = \"KG6Nu72Avqg\"\n",
    "\n",
    "transcript = YouTubeTranscriptApi.get_transcript(tate_short_clip_ID)\n"
   ]
  },
  {
   "cell_type": "code",
   "execution_count": 3,
   "metadata": {},
   "outputs": [
    {
     "data": {
      "text/plain": [
       "\"13.12|that's the first thing the second thing;\\n14.799|is you need to be perspicacious you need;\\n16.72|to understand that in this world there's;\\n18.8|a whole bunch of people doing amazing;\\n20.24| that you are not doing and that;\\n22.24|needs to piss you off because it pisses;\\n24.56|you off you become motivated all of a;\\n26.48|sudden i was the only one who was pissed;\\n28.56|off when that aston martin was next to;\\n30.48|me and i had my sales job i was the only;\\n32.239|one who was pissed off when i saw that;\\n33.52|ferrari drive past other people were not;\\n35.36|annoyed by it and they're not annoyed by;\\n36.8|it they're not driven to beat it you;\\n38.879|understand they're not driven to be;\\n40.0|where that person was you need to be;\\n42.0|annoyed and i'm telling you i'm telling;\\n43.92|you to be angry;\\n45.36|anger is a fantastic force;\\n47.68|like i said the world tells you not to;\\n49.039|be arrogant tells you not to be angry;\\n50.48|it's two things it tells you to do don't;\\n51.84|be arrogant don't have an ego and you;\\n53.52|know you don't have anger you're a;\\n55.199| man you're a full-grown man it's;\\n57.68|perfectly fine for you to be pissed off;\\n59.44|it's perfectly fine to look around at;\\n60.879|your life look at the girl you're;\\n62.399| look at the house you live in;\\n64.0|look at the car you drive and get pissed;\\n65.84|off and go you know what i want a hotter;\\n67.2| i want a nicer house and i;\\n69.04|want faster car there's nothing wrong if;\\n71.119|you take that anger and you direct it in;\\n72.64|the correct direction this is the reason;\\n74.72|i stop fighting now people go why do you;\\n76.159|stop fighting us because i fought and i;\\n78.24|went through hell to get everything i;\\n80.159|now have;\\n81.439|i had nothing when i fought i had;\\n83.36|nothing and i wanted the life i now have;\\n85.759|now i wake up in one of my three;\\n87.28|mansions with one of my seven super cars;\\n88.88|and one of my 15 women what do i need to;\\n90.88|fight for like people have different;\\n92.56|motivations for different things there's;\\n93.759|some fighters out there who fight for;\\n95.04|other reasons you know but my motivation;\\n97.04|was i was pissed off at the world and;\\n99.68|now i'm not as angry as i used to be so;\\n101.2|i don't believe i'm as good a fighter as;\\n102.72|i used to be i'll still whoop some ass;\\n104.799|but i'm not as good as i used to be so;\\n106.799|that's what i decided to retire early;\\n110.479|but this is the second thing first thing;\\n112.72|believe you're the man second thing you;\\n114.72|need to get angry about your situation;\\n117.04|if you've bought this course and you're;\\n118.159|watching and you're sitting there right;\\n119.36|now you're watching and you look around;\\n120.64|you and you don't own the home you're in;\\n122.719|get pissed off if there aren't a ferrari;\\n124.56|on your drive get pissed off if you;\\n126.56|don't have 10 playboy bunny level;\\n128.16|beauties get pissed off and what the;\\n130.879|you need to sit there and realize whoa;\\n132.56|whoa whoa i have a few years of;\\n134.319|consciousness and even less than that i;\\n136.4|have a few short years as a young man;\\n138.879|because age will damage you i mean if;\\n140.319|you're a millionaire when you're 60 it's;\\n141.52|not nearly as good as being a;\\n142.48|millionaire my age i became a;\\n143.92|millionaire 28. so;\\n146.0|you need to realize you've got a few;\\n147.28|short years as a young man you're;\\n148.8| wasting them;\\n150.319|you need to sit there and go;\\n152.64|get angry because getting angry forced;\\n155.28|directed anger is an extremely powerful;\\n157.04|force these are the first two things you;\\n158.8|need to do for a g mindset;\\n\""
      ]
     },
     "execution_count": 3,
     "metadata": {},
     "output_type": "execute_result"
    }
   ],
   "source": [
    "def format_transcript(transcript: list):\n",
    "    formatted_transcript = \"\"\n",
    "\n",
    "    for entry in transcript:\n",
    "        entry_text = entry[\"text\"]\n",
    "        entry_start = entry[\"start\"]\n",
    "        entry_string = f\"{entry_start}|{entry_text};\\n\"\n",
    "        formatted_transcript += entry_string\n",
    "\n",
    "    return formatted_transcript\n",
    "\n",
    "\n",
    "formatted_transcript = format_transcript(transcript)\n",
    "\n",
    "# with open('formatted_transcript.txt', 'w') as the_file:\n",
    "#     the_file.write(formatted_transcript)\n",
    "\n",
    "formatted_transcript\n"
   ]
  },
  {
   "attachments": {},
   "cell_type": "markdown",
   "metadata": {},
   "source": [
    "The below code should output all Bing GPT prompts to prompts/ in format prompt_#\n",
    "Prompts are being tested with \"More precise\" version of Bing GPT"
   ]
  },
  {
   "cell_type": "code",
   "execution_count": 4,
   "metadata": {},
   "outputs": [],
   "source": [
    "# specify prompts dir\n",
    "prompts_dir = Path(\"prompts/\")\n",
    "\n",
    "# remove prompts dir if it already exists\n",
    "if prompts_dir.exists():\n",
    "    shutil.rmtree(prompts_dir)\n",
    "\n",
    "# create prompts dir\n",
    "prompts_dir.mkdir(exist_ok=True, parents=True)\n",
    "\n",
    "# number to keep track of prompt number\n",
    "prompt_number = 0\n"
   ]
  },
  {
   "cell_type": "code",
   "execution_count": 5,
   "metadata": {},
   "outputs": [],
   "source": [
    "# create prompts for accepting formatted transcript\n",
    "\n",
    "# maximum amount of character input left after \"I want to share...\"\n",
    "max_part_chars = 1780\n",
    "\n",
    "# get number of necessary prompts for accepting transcript\n",
    "num_transcript_prompts = math.ceil(len(formatted_transcript) / max_part_chars)\n",
    "\n",
    "transcript_pieces = formatted_transcript.split(\"\\n\")\n",
    "\n",
    "transcript_peice_num = 0\n",
    "for transcript_prompt_num in range(num_transcript_prompts):\n",
    "\n",
    "    transcript_prompt = f\"\"\"I want to share part {transcript_prompt_num+1} of a formatted transcript.\n",
    "The transcript entries are formatted <entry_timestamp>|<entry_text>;.\n",
    "Please only respond with UNDERSTOOD to indicate that you have recieved the formatted transcript.\n",
    "\"\"\"\n",
    "\n",
    "    # compile peices of transcript prompt such that no entry is left off \n",
    "    while len(transcript_prompt) < max_part_chars:\n",
    "        if transcript_peice_num == len(transcript_pieces):\n",
    "            break\n",
    "\n",
    "        transcript_prompt += transcript_pieces[transcript_peice_num]\n",
    "        transcript_prompt += \"\\n\"\n",
    "        transcript_peice_num += 1\n",
    "    \n",
    "    # save prompt as text file\n",
    "    prompt_save_path = Path(f\"{prompts_dir}/prompt_{prompt_number}.txt\")\n",
    "    with open(prompt_save_path, 'w') as prompt_file:\n",
    "        prompt_file.write(transcript_prompt)\n",
    "\n",
    "    prompt_number += 1"
   ]
  },
  {
   "cell_type": "code",
   "execution_count": 6,
   "metadata": {},
   "outputs": [],
   "source": [
    "# create compilation prompt\n",
    "\n",
    "compilation_prompt = \"\"\"Please automatically convert these formatted transcripts into well-punctated text. \n",
    "The result should be a well-punctuated video transcript.\"\"\"\n",
    "\n",
    "prompt_save_path = Path(f\"{prompts_dir}/prompt_{prompt_number}.txt\")\n",
    "with open(prompt_save_path, 'w') as prompt_file:\n",
    "    prompt_file.write(compilation_prompt)\n",
    "\n",
    "prompt_number += 1"
   ]
  },
  {
   "cell_type": "code",
   "execution_count": 7,
   "metadata": {},
   "outputs": [],
   "source": [
    "# create prompt to find a certain clip\n",
    "\n",
    "\n",
    "clip_category = \"interesting\"\n",
    "clip_length = 45\n",
    "\n",
    "compilation_prompt = f\"\"\"Given the well-punctated text and the formatted transcripts, find a {clip_category} clip that is about {clip_length} seconds. \n",
    "Make sure that this clip could be contained without any other context and does not get cut off without the speaker finishing a thought.\n",
    "In other words, if someone only heard the speaker during this clip, they would not be confused by where the clip is beginning or feel that it ended without a conclusion.\n",
    "Make sure that this clip would create a {clip_category} YouTube short or Tik Tok video.\n",
    "Give the beginning and end time stamps of this clip based on the formatted transcript.\n",
    "Use the beginning and end time stamps to make sure this clip is about {clip_length} seconds.\"\"\"\n",
    "\n",
    "prompt_save_path = Path(f\"{prompts_dir}/prompt_{prompt_number}.txt\")\n",
    "with open(prompt_save_path, 'w') as prompt_file:\n",
    "    prompt_file.write(compilation_prompt)\n",
    "\n",
    "prompt_number += 1"
   ]
  }
 ],
 "metadata": {
  "kernelspec": {
   "display_name": "ai_content_generation",
   "language": "python",
   "name": "python3"
  },
  "language_info": {
   "codemirror_mode": {
    "name": "ipython",
    "version": 3
   },
   "file_extension": ".py",
   "mimetype": "text/x-python",
   "name": "python",
   "nbconvert_exporter": "python",
   "pygments_lexer": "ipython3",
   "version": "3.8.16"
  },
  "orig_nbformat": 4
 },
 "nbformat": 4,
 "nbformat_minor": 2
}
